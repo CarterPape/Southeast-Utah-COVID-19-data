{
 "cells": [
  {
   "cell_type": "markdown",
   "metadata": {},
   "source": [
    "### Historic data sources\n",
    "- U.S.: https://raw.githubusercontent.com/nytimes/covid-19-data/master/us.csv\n",
    "- Utah: `./COVID-19 history/Utah.csv`\n",
    "- Navajo Nation: `./COVID-19 history/Navajo Nation.csv`\n",
    "- Grand County: `./COVID-19 history/Grand County.csv`\n",
    "- San Juan County: `./COVID-19 history/San Juan County.csv`"
   ]
  },
  {
   "cell_type": "code",
   "execution_count": null,
   "metadata": {},
   "outputs": [],
   "source": []
  }
 ],
 "metadata": {
  "kernelspec": {
   "display_name": "Python 3",
   "language": "python",
   "name": "python3"
  },
  "language_info": {
   "codemirror_mode": {
    "name": "ipython",
    "version": 3
   },
   "file_extension": ".py",
   "mimetype": "text/x-python",
   "name": "python",
   "nbconvert_exporter": "python",
   "pygments_lexer": "ipython3",
   "version": "3.8.2"
  }
 },
 "nbformat": 4,
 "nbformat_minor": 4
}
