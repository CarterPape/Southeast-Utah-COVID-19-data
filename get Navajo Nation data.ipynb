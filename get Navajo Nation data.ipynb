{
 "cells": [
  {
   "cell_type": "code",
   "execution_count": 1,
   "metadata": {},
   "outputs": [],
   "source": [
    "import requests\n",
    "import bs4\n",
    "import re\n",
    "import json\n",
    "import urllib.parse\n",
    "import dateutil.parser"
   ]
  },
  {
   "cell_type": "markdown",
   "metadata": {},
   "source": [
    "# ArcGIS\n",
    "Get the case count data and the date and time on the data at the same time from ArcGIS:"
   ]
  },
  {
   "cell_type": "code",
   "execution_count": 2,
   "metadata": {},
   "outputs": [
    {
     "name": "stdout",
     "output_type": "stream",
     "text": [
      "200\n",
      "200\n"
     ]
    }
   ],
   "source": [
    "response_containing_date = requests.get(\"https://navajo-nation-coronavirus-response-ndoh-nec.hub.arcgis.com\")\n",
    "response_containing_case_count = requests.get(\n",
    "    \"https://services7.arcgis.com/9dF9awxpVpgKyoYk/arcgis/rest/services/SA/FeatureServer/0/query\"\n",
    "    \"?f=json&where=1%3D1&outFields=*&returnGeometry=false&outStatistics=%5B%7B%22onStatisticField%22%3A%22Total%22%2C%22\"\n",
    "    \"outStatisticFieldName%22%3A%22Total_sum%22%2C%22statisticType%22%3A%22sum%22%7D%5D\"\n",
    ")\n",
    "print(response_containing_date.status_code)\n",
    "print(response_containing_case_count.status_code)"
   ]
  },
  {
   "cell_type": "markdown",
   "metadata": {},
   "source": [
    "Do a shitload of parsing just to extract the date and time the data was updated:"
   ]
  },
  {
   "cell_type": "code",
   "execution_count": 3,
   "metadata": {},
   "outputs": [
    {
     "name": "stdout",
     "output_type": "stream",
     "text": [
      "Thursday, June 18  5:00 PM\n"
     ]
    }
   ],
   "source": [
    "arcgis_site_soup = bs4.BeautifulSoup(response_containing_date.text, \"lxml\")\n",
    "injection_script = arcgis_site_soup.select_one(\"#site-injection\").contents[0]\n",
    "encoded_injection_content_string = (\n",
    "    re.match(\n",
    "        r\"\\s*window.__SITE\\s*=\\s*\\\"(?P<content>.*)\\\"\",\n",
    "        injection_script\n",
    "    ).group(\"content\")\n",
    ")\n",
    "injection_content_string = urllib.parse.unquote(encoded_injection_content_string)\n",
    "injection_content = json.loads(injection_content_string)\n",
    "html_with_date = injection_content\\\n",
    "    [\"site\"][\"data\"][\"values\"][\"layout\"][\"sections\"][0][\"rows\"][0][\"cards\"][0][\"component\"][\"settings\"][\"markdown\"]\n",
    "soup_with_date = bs4.BeautifulSoup(html_with_date, \"html.parser\")\n",
    "text_with_date = soup_with_date.get_text()\n",
    "report_date = dateutil.parser.parse(\n",
    "    text_with_date,\n",
    "    fuzzy = True,\n",
    ")\n",
    "print(report_date.strftime(\"%A, %B %e  %-l:%M %p\"))"
   ]
  },
  {
   "cell_type": "markdown",
   "metadata": {},
   "source": [
    "Do a tiny bit of parsing to get the actual count:"
   ]
  },
  {
   "cell_type": "code",
   "execution_count": 4,
   "metadata": {},
   "outputs": [
    {
     "name": "stdout",
     "output_type": "stream",
     "text": [
      "6824\n"
     ]
    }
   ],
   "source": [
    "case_count_data = response_containing_case_count.json()\n",
    "case_count = case_count_data[\"features\"][0][\"attributes\"][\"Total_sum\"]\n",
    "print(case_count)"
   ]
  },
  {
   "cell_type": "markdown",
   "metadata": {},
   "source": [
    "Print a CSV line from the data:"
   ]
  },
  {
   "cell_type": "code",
   "execution_count": 5,
   "metadata": {},
   "outputs": [
    {
     "name": "stdout",
     "output_type": "stream",
     "text": [
      "2020-06-18,6824,\n"
     ]
    }
   ],
   "source": [
    "arcgis_data = f\"{report_date.strftime('%Y-%m-%d')},{case_count},\"\n",
    "print(arcgis_data)"
   ]
  },
  {
   "cell_type": "markdown",
   "metadata": {},
   "source": [
    "# Navajo Nation site\n",
    "Fetch the site:"
   ]
  },
  {
   "cell_type": "code",
   "execution_count": 6,
   "metadata": {},
   "outputs": [],
   "source": [
    "navajo_data_website = requests.get(\"https://www.ndoh.navajo-nsn.gov/COVID-19\")"
   ]
  },
  {
   "cell_type": "markdown",
   "metadata": {},
   "source": [
    "Extract the good stuff:"
   ]
  },
  {
   "cell_type": "code",
   "execution_count": 7,
   "metadata": {},
   "outputs": [
    {
     "name": "stdout",
     "output_type": "stream",
     "text": [
      "6,832\n",
      "Positive Cases of COVID-19\n",
      "Last Updated June 18, 2020\n",
      "Total Negative Tests:\n",
      "37,413\n",
      "Total Confirmed Deaths:\n",
      "324\n"
     ]
    }
   ],
   "source": [
    "navajo_data_soup = bs4.BeautifulSoup(navajo_data_website.text, \"lxml\")\n",
    "\n",
    "comprehensible_navajo_data = (\n",
    "    \"\\n\".join(\n",
    "        [\n",
    "            string.strip()\n",
    "            for string\n",
    "            in navajo_data_soup.select_one(\"[id^='main-content'] [data-col='5']\").strings\n",
    "            if string.strip() != \"\"\n",
    "        ]\n",
    "    )\n",
    ")\n",
    "print(comprehensible_navajo_data)"
   ]
  },
  {
   "cell_type": "markdown",
   "metadata": {},
   "source": [
    "Parse the good stuff into a CSV line:"
   ]
  },
  {
   "cell_type": "code",
   "execution_count": 8,
   "metadata": {},
   "outputs": [
    {
     "name": "stdout",
     "output_type": "stream",
     "text": [
      "2020-06-18,6832,324\n"
     ]
    }
   ],
   "source": [
    "parsed_navajo_data = (\n",
    "    re.match(\n",
    "        (\n",
    "            r\"(?P<case_count>[\\d,]+)\\n\"\n",
    "            r\"positive[^\\n]*\\n\"\n",
    "            r\"(?P<update_date_text>[^\\n]+)\\n\"\n",
    "            r\"[^\\n]*negative[^\\n]*\\n\"\n",
    "            r\"(?P<negative_count>[\\d,]+)\\n\"\n",
    "            r\"[^\\n]*deaths[^\\n]*\\n\"\n",
    "            r\"(?P<death_count>[\\d,]+)\"\n",
    "        ),\n",
    "        comprehensible_navajo_data,\n",
    "        flags = re.IGNORECASE | re.MULTILINE,\n",
    "    )\n",
    ")\n",
    "\n",
    "case_count = int(parsed_navajo_data.group(\"case_count\").replace(\",\", \"\"))\n",
    "update_date_text = parsed_navajo_data.group(\"update_date_text\")\n",
    "negative_count = int(parsed_navajo_data.group(\"negative_count\").replace(\",\", \"\"))\n",
    "death_count = int(parsed_navajo_data.group(\"death_count\").replace(\",\", \"\"))\n",
    "\n",
    "update_date = dateutil.parser.parse(\n",
    "    update_date_text,\n",
    "    fuzzy = True,\n",
    ")\n",
    "\n",
    "navajo_site_data = f\"{update_date.strftime('%Y-%m-%d')},{case_count},{death_count}\"\n",
    "print(navajo_site_data)"
   ]
  },
  {
   "cell_type": "code",
   "execution_count": 9,
   "metadata": {},
   "outputs": [
    {
     "name": "stdout",
     "output_type": "stream",
     "text": [
      "2020-06-18,6824,\n",
      "2020-06-18,6832,324\n"
     ]
    }
   ],
   "source": [
    "print(arcgis_data)\n",
    "print(navajo_site_data)"
   ]
  }
 ],
 "metadata": {
  "kernelspec": {
   "display_name": "Python 3",
   "language": "python",
   "name": "python3"
  },
  "language_info": {
   "codemirror_mode": {
    "name": "ipython",
    "version": 3
   },
   "file_extension": ".py",
   "mimetype": "text/x-python",
   "name": "python",
   "nbconvert_exporter": "python",
   "pygments_lexer": "ipython3",
   "version": "3.8.2"
  }
 },
 "nbformat": 4,
 "nbformat_minor": 4
}
